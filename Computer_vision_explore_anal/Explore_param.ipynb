{
 "cells": [
  {
   "cell_type": "code",
   "execution_count": 1,
   "metadata": {},
   "outputs": [
    {
     "name": "stderr",
     "output_type": "stream",
     "text": [
      "UsageError: Missing module name.\n"
     ]
    }
   ],
   "source": [
    "import sys\n",
    "import cv2\n",
    "sys.path.append(\"../../vision_new/\")\n",
    "from circle_detect import ComputerVisionModule\n",
    "%load_ext\n",
    "%autoreload 2"
   ]
  },
  {
   "cell_type": "code",
   "execution_count": 2,
   "metadata": {},
   "outputs": [],
   "source": [
    "img_processor = ComputerVisionModule(json_path='../JSON/ComputerVision.json')"
   ]
  },
  {
   "cell_type": "code",
   "execution_count": 3,
   "metadata": {},
   "outputs": [],
   "source": [
    "img_processor.load_new_image(cv2.imread('../images_for_LED_detection/IMG_20220912_210543108.jpg'))"
   ]
  },
  {
   "cell_type": "code",
   "execution_count": 4,
   "metadata": {},
   "outputs": [],
   "source": [
    "img_processor.find_LEDs()"
   ]
  },
  {
   "cell_type": "code",
   "execution_count": 6,
   "metadata": {},
   "outputs": [],
   "source": [
    "img_processor.display_image()"
   ]
  },
  {
   "cell_type": "code",
   "execution_count": 5,
   "metadata": {},
   "outputs": [
    {
     "ename": "AttributeError",
     "evalue": "'ComputerVisionModule' object has no attribute 'im_with_keypoints'",
     "output_type": "error",
     "traceback": [
      "\u001b[1;31m---------------------------------------------------------------------------\u001b[0m",
      "\u001b[1;31mAttributeError\u001b[0m                            Traceback (most recent call last)",
      "Cell \u001b[1;32mIn [5], line 1\u001b[0m\n\u001b[1;32m----> 1\u001b[0m cv2\u001b[38;5;241m.\u001b[39mimshow(\u001b[38;5;124m\"\u001b[39m\u001b[38;5;124mKeypoints\u001b[39m\u001b[38;5;124m\"\u001b[39m, \u001b[43mimg_processor\u001b[49m\u001b[38;5;241;43m.\u001b[39;49m\u001b[43mim_with_keypoints\u001b[49m)\n",
      "\u001b[1;31mAttributeError\u001b[0m: 'ComputerVisionModule' object has no attribute 'im_with_keypoints'"
     ]
    }
   ],
   "source": [
    "cv2.imshow(\"Keypoints\", img_processor.im_with_keypoints)"
   ]
  }
 ],
 "metadata": {
  "kernelspec": {
   "display_name": "Python 3.8.10 ('vision-new-yWp9W5C3-py3.8')",
   "language": "python",
   "name": "python3"
  },
  "language_info": {
   "codemirror_mode": {
    "name": "ipython",
    "version": 3
   },
   "file_extension": ".py",
   "mimetype": "text/x-python",
   "name": "python",
   "nbconvert_exporter": "python",
   "pygments_lexer": "ipython3",
   "version": "3.8.10"
  },
  "orig_nbformat": 4,
  "vscode": {
   "interpreter": {
    "hash": "0a8d115da81dcf1ee0f0c67d33573cada3351d75530c2fb5b03318e0d07873b1"
   }
  }
 },
 "nbformat": 4,
 "nbformat_minor": 2
}
